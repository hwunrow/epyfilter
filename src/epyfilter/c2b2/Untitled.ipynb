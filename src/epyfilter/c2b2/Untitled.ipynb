{
 "cells": [
  {
   "cell_type": "code",
   "execution_count": 1,
   "id": "b96534b7",
   "metadata": {
    "tags": []
   },
   "outputs": [
    {
     "name": "stdout",
     "output_type": "stream",
     "text": [
      "47871\n"
     ]
    }
   ],
   "source": [
    "import glob\n",
    "import pandas as pd\n",
    "import os\n",
    "import numpy as np\n",
    "\n",
    "# dir = \"/ifs/scratch/jls106_gp/nhw2114/data/20231025_synthetic_data\"\n",
    "# files = glob.glob(dir + '/*_eakf_metrics.csv')\n",
    "\n",
    "dir = \"/ifs/scratch/jls106_gp/nhw2114/data/20231106_synthetic_data\"\n",
    "files = glob.glob(dir + '/*_eakf_metrics.csv')\n",
    "print(len(files))"
   ]
  },
  {
   "cell_type": "code",
   "execution_count": 2,
   "id": "cbf51b8d",
   "metadata": {
    "tags": []
   },
   "outputs": [
    {
     "name": "stdout",
     "output_type": "stream",
     "text": [
      "(47871, 1)\n"
     ]
    }
   ],
   "source": [
    "df = pd.DataFrame(files, columns=['filepath'])\n",
    "print(df.shape)"
   ]
  },
  {
   "cell_type": "code",
   "execution_count": 3,
   "id": "72a80aae-05cf-4cfb-b4ae-98c648407b67",
   "metadata": {
    "tags": []
   },
   "outputs": [],
   "source": [
    "dfs = []\n",
    "for file in files:\n",
    "    df = pd.read_csv(file)\n",
    "    param = os.path.basename(file).split(\"_\")[0]\n",
    "    df[\"param\"] = param\n",
    "    dfs.append(df)\n",
    "\n",
    "combined_df = pd.concat(dfs, ignore_index=False)\n",
    "# combined_df.to_csv(f\"{dir}/eakf_metrics_all.csv\", index=False)"
   ]
  },
  {
   "cell_type": "code",
   "execution_count": 10,
   "id": "afc27bd2",
   "metadata": {
    "tags": []
   },
   "outputs": [
    {
     "data": {
      "text/html": [
       "<div>\n",
       "<style scoped>\n",
       "    .dataframe tbody tr th:only-of-type {\n",
       "        vertical-align: middle;\n",
       "    }\n",
       "\n",
       "    .dataframe tbody tr th {\n",
       "        vertical-align: top;\n",
       "    }\n",
       "\n",
       "    .dataframe thead th {\n",
       "        text-align: right;\n",
       "    }\n",
       "</style>\n",
       "<table border=\"1\" class=\"dataframe\">\n",
       "  <thead>\n",
       "    <tr style=\"text-align: right;\">\n",
       "      <th></th>\n",
       "      <th>rt_peak_rmse</th>\n",
       "      <th>rt_rmse</th>\n",
       "      <th>data_rmse</th>\n",
       "      <th>avg_w2</th>\n",
       "      <th>avg_kl</th>\n",
       "      <th>in_ci</th>\n",
       "      <th>ens_var</th>\n",
       "      <th>in_ci_last_day</th>\n",
       "      <th>ens_var_last_day</th>\n",
       "    </tr>\n",
       "    <tr>\n",
       "      <th>method</th>\n",
       "      <th></th>\n",
       "      <th></th>\n",
       "      <th></th>\n",
       "      <th></th>\n",
       "      <th></th>\n",
       "      <th></th>\n",
       "      <th></th>\n",
       "      <th></th>\n",
       "      <th></th>\n",
       "    </tr>\n",
       "  </thead>\n",
       "  <tbody>\n",
       "    <tr>\n",
       "      <th>adaptive inflation</th>\n",
       "      <td>0.084826</td>\n",
       "      <td>0.374294</td>\n",
       "      <td>47.155028</td>\n",
       "      <td>0.642215</td>\n",
       "      <td>0.952634</td>\n",
       "      <td>0.662688</td>\n",
       "      <td>0.019103</td>\n",
       "      <td>0.974248</td>\n",
       "      <td>0.020679</td>\n",
       "    </tr>\n",
       "    <tr>\n",
       "      <th>fixed inflation</th>\n",
       "      <td>0.044096</td>\n",
       "      <td>0.599342</td>\n",
       "      <td>68.934736</td>\n",
       "      <td>0.811221</td>\n",
       "      <td>3.306925</td>\n",
       "      <td>0.172926</td>\n",
       "      <td>0.005275</td>\n",
       "      <td>0.431954</td>\n",
       "      <td>0.001028</td>\n",
       "    </tr>\n",
       "    <tr>\n",
       "      <th>no inflation</th>\n",
       "      <td>0.024712</td>\n",
       "      <td>1.763016</td>\n",
       "      <td>117.320117</td>\n",
       "      <td>0.988785</td>\n",
       "      <td>7.159076</td>\n",
       "      <td>0.000000</td>\n",
       "      <td>0.000009</td>\n",
       "      <td>0.000000</td>\n",
       "      <td>0.000009</td>\n",
       "    </tr>\n",
       "    <tr>\n",
       "      <th>smooth</th>\n",
       "      <td>0.043555</td>\n",
       "      <td>0.253315</td>\n",
       "      <td>58.498542</td>\n",
       "      <td>0.384004</td>\n",
       "      <td>0.968655</td>\n",
       "      <td>0.543373</td>\n",
       "      <td>0.004541</td>\n",
       "      <td>0.971483</td>\n",
       "      <td>0.019151</td>\n",
       "    </tr>\n",
       "  </tbody>\n",
       "</table>\n",
       "</div>"
      ],
      "text/plain": [
       "                    rt_peak_rmse   rt_rmse   data_rmse    avg_w2    avg_kl  \\\n",
       "method                                                                       \n",
       "adaptive inflation      0.084826  0.374294   47.155028  0.642215  0.952634   \n",
       "fixed inflation         0.044096  0.599342   68.934736  0.811221  3.306925   \n",
       "no inflation            0.024712  1.763016  117.320117  0.988785  7.159076   \n",
       "smooth                  0.043555  0.253315   58.498542  0.384004  0.968655   \n",
       "\n",
       "                       in_ci   ens_var  in_ci_last_day  ens_var_last_day  \n",
       "method                                                                    \n",
       "adaptive inflation  0.662688  0.019103        0.974248          0.020679  \n",
       "fixed inflation     0.172926  0.005275        0.431954          0.001028  \n",
       "no inflation        0.000000  0.000009        0.000000          0.000009  \n",
       "smooth              0.543373  0.004541        0.971483          0.019151  "
      ]
     },
     "execution_count": 10,
     "metadata": {},
     "output_type": "execute_result"
    }
   ],
   "source": [
    "combined_df[[\"method\", 'rt_peak_rmse', 'rt_rmse', 'data_rmse', 'avg_w2', 'avg_kl',\n",
    "       'in_ci', 'ens_var', 'in_ci_last_day', 'ens_var_last_day']].groupby(\"method\").mean()"
   ]
  },
  {
   "cell_type": "code",
   "execution_count": 39,
   "id": "2636d9b2-ae69-4b40-8b58-73929e6b7bae",
   "metadata": {
    "tags": []
   },
   "outputs": [
    {
     "data": {
      "text/plain": [
       "<matplotlib.legend.Legend at 0x7fe3a6372a10>"
      ]
     },
     "execution_count": 39,
     "metadata": {},
     "output_type": "execute_result"
    },
    {
     "data": {
      "image/png": "[encoded data removed]",
      "text/plain": [
       "<Figure size 640x480 with 1 Axes>"
      ]
     },
     "metadata": {},
     "output_type": "display_data"
    }
   ],
   "source": [
    "import matplotlib.pyplot as plt\n",
    "from matplotlib.ticker import PercentFormatter\n",
    "\n",
    "\n",
    "fig = plt.figure()\n",
    "ax = fig.add_subplot(111)\n",
    "# ax.hist(combined_df.loc[combined_df[\"method\"] == \"fixed inflation\", \"in_ci_last_day\"], bins=20, color='yellow', label=\"fixed inflation\", edgecolor='black', alpha=0.5, density=True)\n",
    "ax.hist(combined_df.loc[combined_df[\"method\"] == \"adaptive inflation\", \"in_ci_last_day\"], bins=20, color='blue', label=\"adaptive inflation\", edgecolor='black', alpha=0.5, density=True) \n",
    "ax.yaxis.set_major_formatter(PercentFormatter(xmax=100))\n",
    "plt.title('Histogram Example')\n",
    "plt.xlabel('Proportion in 95% CI')\n",
    "plt.ylabel('Frequency')\n",
    "plt.legend()"
   ]
  },
  {
   "cell_type": "code",
   "execution_count": 28,
   "id": "9abe7e5f-53ce-4d67-a632-c4534620a2da",
   "metadata": {
    "tags": []
   },
   "outputs": [
    {
     "name": "stdout",
     "output_type": "stream",
     "text": [
      "197\n"
     ]
    }
   ],
   "source": [
    "check_params = combined_df.loc[(combined_df[\"method\"] == \"adaptive inflation\") & (combined_df[\"in_ci_last_day\"] == 0), \"param\"]\n",
    "print(len(check_params))\n",
    "pdfs = [f\"{dir}/{param_num}_eakf_posterior_adaptive_inflation.pdf\" for param_num in check_params]"
   ]
  },
  {
   "cell_type": "code",
   "execution_count": 29,
   "id": "1d4cc8b3-5905-4734-a045-62318b5028da",
   "metadata": {
    "tags": []
   },
   "outputs": [],
   "source": [
    "from pypdf import PdfMerger\n",
    "\n",
    "merger = PdfMerger()\n",
    "\n",
    "for pdf in pdfs:\n",
    "    merger.append(pdf)\n",
    "\n",
    "merger.write(\"merge.pdf\")\n",
    "merger.close()"
   ]
  },
  {
   "cell_type": "markdown",
   "id": "76fa42e5-7f20-432f-87d3-e5d4dc501c2e",
   "metadata": {},
   "source": [
    "# COMPUTE LAST DAY, PEAKS, DATA DISTRIBUTION, AND "
   ]
  },
  {
   "cell_type": "code",
   "execution_count": 11,
   "id": "d643b942-e533-4d6f-8a9a-96937ca6acfe",
   "metadata": {
    "tags": []
   },
   "outputs": [],
   "source": [
    "import pickle\n",
    "from epyfilter import simulate_data\n",
    "from tqdm import tqdm\n",
    "\n",
    "good_param_df = pd.read_csv(\"good_param_list.csv\")\n",
    "pickle_list = [f\"/ifs/scratch/jls106_gp/nhw2114/data/20231025_synthetic_data/{param}_synthetic_data.pkl\" for param in good_param_df.param]\n",
    "\n",
    "def compute_late_day(data):\n",
    "    beta_1 = data.rt_1 / data.t_I\n",
    "    beta_0 = data.rt_0 / data.t_I\n",
    "    late_day = -1/data.k * np.log((beta_1 - beta_0)/(0.99*beta_1 - beta_0)-1) + data.midpoint\n",
    "    late_day = int(late_day)\n",
    "    return late_day\n",
    "\n",
    "def compute_peaks(data):\n",
    "    det_data = simulate_data.simulate_data(**data.true_params, run_deterministic=True)\n",
    "    peak_days, = np.where(np.diff(np.sign(np.diff(det_data.i_true))) == -2)  # days where it increases before then decreases\n",
    "    peak_days = peak_days[:2]  # just take first two days\n",
    "    return peak_days\n",
    "\n",
    "def open_pickle(pickle_file):\n",
    "    with open(pickle_file, 'rb') as file:\n",
    "        data = pickle.load(file)\n",
    "    return data"
   ]
  },
  {
   "cell_type": "code",
   "execution_count": 30,
   "id": "7e516448-395e-45bb-88df-52c8e1936d88",
   "metadata": {
    "tags": []
   },
   "outputs": [],
   "source": [
    "data_files = glob.glob(dir + '/*_data_distribution.csv')\n",
    "done_params = [int(os.path.basename(f).split(\"_\")[0]) for f in data_files]\n",
    "todo_params = list(set(good_param_df.param) - set(done_params))\n",
    "\n",
    "pickle_list = [f\"/ifs/scratch/jls106_gp/nhw2114/data/20231025_synthetic_data/{param}_synthetic_data.pkl\" for param in todo_params]"
   ]
  },
  {
   "cell_type": "code",
   "execution_count": 31,
   "id": "80b34f01-9bb6-4b87-99a9-8b741bc36bf7",
   "metadata": {
    "tags": []
   },
   "outputs": [
    {
     "name": "stderr",
     "output_type": "stream",
     "text": [
      "100%|████████████████████████████████████████████████████████████████████████████████████████████████████| 29529/29529 [2:54:39<00:00,  2.82it/s]\n"
     ]
    }
   ],
   "source": [
    "for pp in tqdm(pickle_list):\n",
    "    param = os.path.basename(pp).split(\"_\")[0]\n",
    "    data = open_pickle(pp)\n",
    "    data_distribution_df = pd.DataFrame(data.data_distribution, columns=[f\"sample{x}\" for x in range(1,301)])\n",
    "    data_distribution_df[\"day\"] = range(len(data_distribution_df))\n",
    "    data_distribution_df[\"late_day\"] = compute_late_day(data)\n",
    "    peaks = compute_peaks(data)\n",
    "    data_distribution_df[\"peak1\"] = peaks[0]\n",
    "    data_distribution_df[\"peak2\"] = peaks[1]\n",
    "    \n",
    "    data_distribution_df.to_csv(f\"{dir}/{param}_data_distribution.csv\", index=False)"
   ]
  },
  {
   "cell_type": "code",
   "execution_count": 32,
   "id": "549ec86d-7a9a-4245-83dd-f215c5550652",
   "metadata": {
    "tags": []
   },
   "outputs": [],
   "source": [
    "data_files = glob.glob(dir + '/*_data_distribution.csv')"
   ]
  },
  {
   "cell_type": "code",
   "execution_count": 33,
   "id": "1af2b1d8-8094-4014-a92e-9ba7ac9ae025",
   "metadata": {
    "tags": []
   },
   "outputs": [
    {
     "data": {
      "text/plain": [
       "47871"
      ]
     },
     "execution_count": 33,
     "metadata": {},
     "output_type": "execute_result"
    }
   ],
   "source": [
    "len(data_files)"
   ]
  },
  {
   "cell_type": "code",
   "execution_count": 34,
   "id": "cd77ff19-354f-47fc-941d-e6732663034d",
   "metadata": {
    "tags": []
   },
   "outputs": [
    {
     "data": {
      "text/plain": [
       "(47871, 1)"
      ]
     },
     "execution_count": 34,
     "metadata": {},
     "output_type": "execute_result"
    }
   ],
   "source": [
    "good_param_df.shape"
   ]
  },
  {
   "cell_type": "markdown",
   "id": "6b7c25d1-e0f0-4135-abbb-e76c52582215",
   "metadata": {
    "jp-MarkdownHeadingCollapsed": true,
    "tags": []
   },
   "source": [
    "# Fix Single Epidemics"
   ]
  },
  {
   "cell_type": "code",
   "execution_count": 7,
   "id": "60b8c406-b7e2-42de-bd7a-b4284b363902",
   "metadata": {
    "tags": []
   },
   "outputs": [],
   "source": [
    "pickles = glob.glob(dir + '/*.pkl')"
   ]
  },
  {
   "cell_type": "code",
   "execution_count": 8,
   "id": "b8f8caa5-9fe3-4f24-8da4-6df7096af528",
   "metadata": {
    "tags": []
   },
   "outputs": [],
   "source": [
    "import pickle\n",
    "def open_pickle(pickle_file):\n",
    "    with open(pickle_file, 'rb') as file:\n",
    "        data = pickle.load(file)\n",
    "    return data"
   ]
  },
  {
   "cell_type": "code",
   "execution_count": 10,
   "id": "9ca31b0d-8df2-46ae-a15d-980bdaf1b525",
   "metadata": {
    "tags": []
   },
   "outputs": [
    {
     "name": "stderr",
     "output_type": "stream",
     "text": [
      "100%|██████████████████████████████████████████████████████████████████████████████████████████████████████████████████████████████████████████████████████████████████████| 100185/100185 [3:04:18<00:00,  9.06it/s]\n"
     ]
    },
    {
     "data": {
      "image/png": "[encoded data removed]",
      "text/plain": [
       "<Figure size 640x480 with 1 Axes>"
      ]
     },
     "metadata": {},
     "output_type": "display_data"
    }
   ],
   "source": [
    "from tqdm import tqdm\n",
    "from scipy.signal import find_peaks\n",
    "\n",
    "bad_params = []\n",
    "for file in tqdm(pickles):\n",
    "    data = open_pickle(file)\n",
    "\n",
    "    window_size = 10  # Adjust this window size as needed\n",
    "    smoothed_data = np.convolve(data.i_true, np.ones(window_size) / window_size, mode='valid')\n",
    "    peaks, _ = find_peaks(smoothed_data, height=100, prominence=10)\n",
    "    if len(peaks) < 2:\n",
    "        bad_params.append(file)\n",
    "        plt.plot(data.i_true)"
   ]
  },
  {
   "cell_type": "code",
   "execution_count": 11,
   "id": "612353e6-0117-4367-adad-b254222f14f0",
   "metadata": {},
   "outputs": [
    {
     "data": {
      "text/plain": [
       "52314"
      ]
     },
     "execution_count": 11,
     "metadata": {},
     "output_type": "execute_result"
    }
   ],
   "source": [
    "len(bad_params)"
   ]
  },
  {
   "cell_type": "code",
   "execution_count": 14,
   "id": "6915a175-f530-490f-8d36-ddc322d206e3",
   "metadata": {
    "tags": []
   },
   "outputs": [],
   "source": [
    "pd.DataFrame(bad_params).to_csv(\"one_epidemic_curve.csv\", index=False)"
   ]
  },
  {
   "cell_type": "code",
   "execution_count": 18,
   "id": "262a3e26-5d84-4727-a2e6-ee5bd1949aee",
   "metadata": {
    "tags": []
   },
   "outputs": [],
   "source": [
    "bad_metric_files = [f\"/ifs/scratch/jls106_gp/nhw2114/data/20231025_synthetic_data/{os.path.basename(b).split('_')[0]}_eakf_metrics.csv\" for b in bad_params]"
   ]
  },
  {
   "cell_type": "code",
   "execution_count": 21,
   "id": "18ff16e6-e6c7-4e7c-bf5b-42da51ae5d05",
   "metadata": {
    "tags": []
   },
   "outputs": [
    {
     "name": "stderr",
     "output_type": "stream",
     "text": [
      "100%|███████████████████████████████████████████████████████████████████████████████████████████████████████████████████████| 100185/100185 [07:22<00:00, 226.36it/s]\n"
     ]
    }
   ],
   "source": [
    "dfs = []\n",
    "for file in tqdm(files):\n",
    "    if file not in bad_metric_files:\n",
    "        df = pd.read_csv(file)\n",
    "        param = os.path.basename(file).split(\"_\")[0]\n",
    "        df[\"param\"] = param\n",
    "        dfs.append(df)\n",
    "\n",
    "good_combined_df = pd.concat(dfs, ignore_index=False)"
   ]
  },
  {
   "cell_type": "code",
   "execution_count": 22,
   "id": "53b0ead0-18b7-4db0-8b50-086446e07560",
   "metadata": {
    "tags": []
   },
   "outputs": [
    {
     "data": {
      "text/html": [
       "<div>\n",
       "<style scoped>\n",
       "    .dataframe tbody tr th:only-of-type {\n",
       "        vertical-align: middle;\n",
       "    }\n",
       "\n",
       "    .dataframe tbody tr th {\n",
       "        vertical-align: top;\n",
       "    }\n",
       "\n",
       "    .dataframe thead th {\n",
       "        text-align: right;\n",
       "    }\n",
       "</style>\n",
       "<table border=\"1\" class=\"dataframe\">\n",
       "  <thead>\n",
       "    <tr style=\"text-align: right;\">\n",
       "      <th></th>\n",
       "      <th>rt_peak_rmse</th>\n",
       "      <th>rt_rmse</th>\n",
       "      <th>data_rmse</th>\n",
       "      <th>avg_w2</th>\n",
       "      <th>avg_kl</th>\n",
       "      <th>in_ci</th>\n",
       "    </tr>\n",
       "    <tr>\n",
       "      <th>method</th>\n",
       "      <th></th>\n",
       "      <th></th>\n",
       "      <th></th>\n",
       "      <th></th>\n",
       "      <th></th>\n",
       "      <th></th>\n",
       "    </tr>\n",
       "  </thead>\n",
       "  <tbody>\n",
       "    <tr>\n",
       "      <th>adaptive inflation</th>\n",
       "      <td>0.084815</td>\n",
       "      <td>0.374231</td>\n",
       "      <td>47.154245</td>\n",
       "      <td>0.642203</td>\n",
       "      <td>0.952536</td>\n",
       "      <td>0.662593</td>\n",
       "    </tr>\n",
       "    <tr>\n",
       "      <th>fixed inflation</th>\n",
       "      <td>0.044096</td>\n",
       "      <td>0.599377</td>\n",
       "      <td>68.936821</td>\n",
       "      <td>0.811197</td>\n",
       "      <td>3.306851</td>\n",
       "      <td>0.172927</td>\n",
       "    </tr>\n",
       "    <tr>\n",
       "      <th>no inflation</th>\n",
       "      <td>0.024710</td>\n",
       "      <td>1.763012</td>\n",
       "      <td>117.320087</td>\n",
       "      <td>0.988873</td>\n",
       "      <td>7.159461</td>\n",
       "      <td>0.000000</td>\n",
       "    </tr>\n",
       "    <tr>\n",
       "      <th>smooth</th>\n",
       "      <td>0.043557</td>\n",
       "      <td>0.253248</td>\n",
       "      <td>58.496632</td>\n",
       "      <td>0.383990</td>\n",
       "      <td>0.968416</td>\n",
       "      <td>0.543410</td>\n",
       "    </tr>\n",
       "  </tbody>\n",
       "</table>\n",
       "</div>"
      ],
      "text/plain": [
       "                    rt_peak_rmse   rt_rmse   data_rmse    avg_w2    avg_kl  \\\n",
       "method                                                                       \n",
       "adaptive inflation      0.084815  0.374231   47.154245  0.642203  0.952536   \n",
       "fixed inflation         0.044096  0.599377   68.936821  0.811197  3.306851   \n",
       "no inflation            0.024710  1.763012  117.320087  0.988873  7.159461   \n",
       "smooth                  0.043557  0.253248   58.496632  0.383990  0.968416   \n",
       "\n",
       "                       in_ci  \n",
       "method                        \n",
       "adaptive inflation  0.662593  \n",
       "fixed inflation     0.172927  \n",
       "no inflation        0.000000  \n",
       "smooth              0.543410  "
      ]
     },
     "execution_count": 22,
     "metadata": {},
     "output_type": "execute_result"
    }
   ],
   "source": [
    "good_combined_df[[\"method\", \"rt_peak_rmse\", \"rt_rmse\", \"data_rmse\", \"avg_w2\", \"avg_kl\", \"in_ci\"]].groupby(\"method\").mean()"
   ]
  },
  {
   "cell_type": "code",
   "execution_count": 23,
   "id": "83d1d50c-a945-48aa-8970-e19d3433a4f2",
   "metadata": {
    "tags": []
   },
   "outputs": [
    {
     "data": {
      "text/plain": [
       "Text(0, 0.5, 'Count')"
      ]
     },
     "execution_count": 23,
     "metadata": {},
     "output_type": "execute_result"
    },
    {
     "data": {
      "image/png": "[encoded data removed]",
      "text/plain": [
       "<Figure size 640x480 with 1 Axes>"
      ]
     },
     "metadata": {},
     "output_type": "display_data"
    }
   ],
   "source": [
    "plt.hist(good_combined_df.loc[good_combined_df[\"method\"] == \"fixed inflation\", \"in_ci\"], bins=20, color='yellow', edgecolor='black', alpha=0.5)\n",
    "plt.hist(good_combined_df.loc[good_combined_df[\"method\"] == \"adaptive inflation\", \"in_ci\"], bins=20, color='blue', edgecolor='black', alpha=0.5)\n",
    "plt.title('Histogram Example')\n",
    "plt.xlabel('Proportion in 95% CI')\n",
    "plt.ylabel('Count')"
   ]
  },
  {
   "cell_type": "code",
   "execution_count": 42,
   "id": "61fef1cb-207b-4f94-9a0b-8e5f0824d60b",
   "metadata": {
    "tags": []
   },
   "outputs": [],
   "source": [
    "pd.DataFrame(good_combined_df.param.unique(), columns=[\"param\"]).to_csv(\"good_param_list.csv\", index=False)"
   ]
  },
  {
   "cell_type": "code",
   "execution_count": 45,
   "id": "310db840-8f5a-49aa-9405-71cd9d29d2bb",
   "metadata": {
    "tags": []
   },
   "outputs": [],
   "source": [
    "df = pd.read_csv(\"good_param_list.csv\")\n",
    "pickle_files = df.iloc[1:1000, 0]"
   ]
  },
  {
   "cell_type": "code",
   "execution_count": 46,
   "id": "24775dec-7ac2-44c3-b931-b46193cda67d",
   "metadata": {
    "tags": []
   },
   "outputs": [],
   "source": [
    "pickle_files = [f\"/ifs/scratch/jls106_gp/nhw2114/data/20231025_synthetic_data/{p}_synthetic_data.pkl\" for p in pickle_files]"
   ]
  },
  {
   "cell_type": "code",
   "execution_count": 51,
   "id": "dd2ce44a-c3ec-4c43-84c6-16ee480a63a6",
   "metadata": {
    "tags": []
   },
   "outputs": [
    {
     "data": {
      "text/plain": [
       "71.82000000000001"
      ]
     },
     "execution_count": 51,
     "metadata": {},
     "output_type": "execute_result"
    }
   ],
   "source": [
    "4788/200 * 3"
   ]
  },
  {
   "cell_type": "code",
   "execution_count": 55,
   "id": "33582487-c6fc-4309-9389-0cb274da3eff",
   "metadata": {
    "tags": []
   },
   "outputs": [],
   "source": [
    "files = glob.glob(dir + '/*_for_epiestim.csv')"
   ]
  },
  {
   "cell_type": "code",
   "execution_count": 58,
   "id": "0f67f8ce-a5cb-41b0-bc47-ea22ebfaa826",
   "metadata": {
    "tags": []
   },
   "outputs": [
    {
     "data": {
      "text/html": [
       "<div>\n",
       "<style scoped>\n",
       "    .dataframe tbody tr th:only-of-type {\n",
       "        vertical-align: middle;\n",
       "    }\n",
       "\n",
       "    .dataframe tbody tr th {\n",
       "        vertical-align: top;\n",
       "    }\n",
       "\n",
       "    .dataframe thead th {\n",
       "        text-align: right;\n",
       "    }\n",
       "</style>\n",
       "<table border=\"1\" class=\"dataframe\">\n",
       "  <thead>\n",
       "    <tr style=\"text-align: right;\">\n",
       "      <th></th>\n",
       "      <th>rt</th>\n",
       "      <th>i</th>\n",
       "      <th>prop_S</th>\n",
       "    </tr>\n",
       "  </thead>\n",
       "  <tbody>\n",
       "    <tr>\n",
       "      <th>0</th>\n",
       "      <td>1.3</td>\n",
       "      <td>33.742320</td>\n",
       "      <td>0.99869</td>\n",
       "    </tr>\n",
       "    <tr>\n",
       "      <th>1</th>\n",
       "      <td>1.3</td>\n",
       "      <td>42.500996</td>\n",
       "      <td>0.99826</td>\n",
       "    </tr>\n",
       "    <tr>\n",
       "      <th>2</th>\n",
       "      <td>1.3</td>\n",
       "      <td>45.972273</td>\n",
       "      <td>0.99778</td>\n",
       "    </tr>\n",
       "    <tr>\n",
       "      <th>3</th>\n",
       "      <td>1.3</td>\n",
       "      <td>38.297496</td>\n",
       "      <td>0.99736</td>\n",
       "    </tr>\n",
       "    <tr>\n",
       "      <th>4</th>\n",
       "      <td>1.3</td>\n",
       "      <td>38.854358</td>\n",
       "      <td>0.99690</td>\n",
       "    </tr>\n",
       "    <tr>\n",
       "      <th>...</th>\n",
       "      <td>...</td>\n",
       "      <td>...</td>\n",
       "      <td>...</td>\n",
       "    </tr>\n",
       "    <tr>\n",
       "      <th>360</th>\n",
       "      <td>4.7</td>\n",
       "      <td>0.000000</td>\n",
       "      <td>0.58860</td>\n",
       "    </tr>\n",
       "    <tr>\n",
       "      <th>361</th>\n",
       "      <td>4.7</td>\n",
       "      <td>0.396479</td>\n",
       "      <td>0.58860</td>\n",
       "    </tr>\n",
       "    <tr>\n",
       "      <th>362</th>\n",
       "      <td>4.7</td>\n",
       "      <td>0.000000</td>\n",
       "      <td>0.58860</td>\n",
       "    </tr>\n",
       "    <tr>\n",
       "      <th>363</th>\n",
       "      <td>4.7</td>\n",
       "      <td>0.000000</td>\n",
       "      <td>0.58860</td>\n",
       "    </tr>\n",
       "    <tr>\n",
       "      <th>364</th>\n",
       "      <td>4.7</td>\n",
       "      <td>0.000000</td>\n",
       "      <td>0.58860</td>\n",
       "    </tr>\n",
       "  </tbody>\n",
       "</table>\n",
       "<p>365 rows × 3 columns</p>\n",
       "</div>"
      ],
      "text/plain": [
       "      rt          i   prop_S\n",
       "0    1.3  33.742320  0.99869\n",
       "1    1.3  42.500996  0.99826\n",
       "2    1.3  45.972273  0.99778\n",
       "3    1.3  38.297496  0.99736\n",
       "4    1.3  38.854358  0.99690\n",
       "..   ...        ...      ...\n",
       "360  4.7   0.000000  0.58860\n",
       "361  4.7   0.396479  0.58860\n",
       "362  4.7   0.000000  0.58860\n",
       "363  4.7   0.000000  0.58860\n",
       "364  4.7   0.000000  0.58860\n",
       "\n",
       "[365 rows x 3 columns]"
      ]
     },
     "execution_count": 58,
     "metadata": {},
     "output_type": "execute_result"
    }
   ],
   "source": [
    "pd.read_csv(files[0])"
   ]
  },
  {
   "cell_type": "code",
   "execution_count": null,
   "id": "b6afc321-20f2-47e3-9a32-310f09600f12",
   "metadata": {},
   "outputs": [],
   "source": []
  }
 ],
 "metadata": {
  "kernelspec": {
   "display_name": "Python 3 (ipykernel)",
   "language": "python",
   "name": "python3"
  },
  "language_info": {
   "codemirror_mode": {
    "name": "ipython",
    "version": 3
   },
   "file_extension": ".py",
   "mimetype": "text/x-python",
   "name": "python",
   "nbconvert_exporter": "python",
   "pygments_lexer": "ipython3",
   "version": "3.11.4"
  }
 },
 "nbformat": 4,
 "nbformat_minor": 5
}
