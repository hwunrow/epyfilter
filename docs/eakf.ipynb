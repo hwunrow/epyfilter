{
 "cells": [
  {
   "cell_type": "markdown",
   "id": "96e01e8d-9787-4e72-a964-3c74515ae48b",
   "metadata": {},
   "source": [
    "# Kalman Filter\n",
    "Linear dynamics and linear observation operator\n",
    "$$\n",
    "\\boxed{\n",
    "\\begin{align*}\n",
    "    \\text{Dynamics models:}& \\quad v_{j+1} =\\color{red}{M} v_j+\\xi_j, ~ j \\in \\mathbb{Z}^{+} \\\\\n",
    "    \\text{Data Model:}& \\quad y_{j+1} = \\color{red}{H} v_{j+1} + \\eta_{j+1}, ~ j \\in \\mathbb{Z}^+ \\\\\n",
    "    \\text{Probabilistic Structure:}& \\quad \n",
    " v_0 \\sim \\mathcal{N}\\left(m_0, C_0\\right), \\xi_j \\sim \\mathcal{N}(0, \\Sigma), \\eta_j \\sim \\mathcal{N}(0, \\Gamma)  \\text { i.i.d. } \\\\\n",
    "    \\text{Probabilistic Structure:}& \\quad v_0 \\perp \\{\\xi_j\\} \\perp \\{\\eta_j\\}\n",
    "\\end{align*}\n",
    "}\n",
    "$$"
   ]
  },
  {
   "cell_type": "markdown",
   "id": "8179fd3c-9046-4c7f-be13-df21d00c58c6",
   "metadata": {},
   "source": [
    "# Ensemble Kalman Filter (EnKF)"
   ]
  },
  {
   "cell_type": "markdown",
   "id": "1898f1d7-4c33-4b89-9dee-8f29da5beabe",
   "metadata": {},
   "source": [
    "$$\n",
    "\\begin{equation}\n",
    "\\text { Prediction }\\left\\{\\begin{array}{l}\n",
    "\\widehat{v}_{j+1}^{(n)}=\\Psi\\left(v_j^{(n)}\\right)+\\xi_j^{(n)}, \\quad n=1, \\ldots, N, \\\\\n",
    "\\widehat{m}_{j+1}=\\frac{1}{N} \\sum_{n=1}^N \\widehat{v}_{j+1}^{(n)}, \\\\\n",
    "\\widehat{C}_{j+1}=\\frac{1}{N-1} \\sum_{n=1}^N\\left(\\widehat{v}_{j+1}^{(n)}-\\widehat{m}_{j+1}\\right)\\left(\\widehat{v}_{j+1}^{(n)}-\\widehat{m}_{j+1}\\right)^T .\n",
    "\\end{array}\\right.\n",
    "\\end{equation}\n",
    "\\begin{equation}\n",
    "\\text { Analysis }\\left\\{\\begin{array}{l}\n",
    "S_{j+1}=H \\widehat{C}_{j+1} H^T+\\Gamma, \\\\\n",
    "K_{j+1}=\\widehat{C}_{j+1} H^T S_{j+1}^{-1}, \\\\\n",
    "y_{j+1}^{(n)}=y_{j+1}+\\eta_{j+1}^{(n)}, \\quad n=1, \\ldots, N, \\\\\n",
    "v_{j+1}^{(n)}=\\left(I-K_{j+1} H\\right) \\widehat{v}_{j+1}^{(n)}+K_{j+1} y_{j+1}^{(n)}, \\quad n=1, \\ldots, N\n",
    "\\end{array}\\right.\n",
    "\\end{equation}\n",
    "$$"
   ]
  },
  {
   "cell_type": "markdown",
   "id": "09671cfd-f631-498e-9db1-179eb1cca6b3",
   "metadata": {},
   "source": [
    "# Ensemble Adjustment Kalman Filter (EAKF)"
   ]
  },
  {
   "cell_type": "markdown",
   "id": "71532c58-f60d-453a-8882-ee06784d9fdc",
   "metadata": {},
   "source": [
    "# 3DVAR"
   ]
  },
  {
   "cell_type": "markdown",
   "id": "e6a9e164-cf1b-482d-81aa-c9b70b5b20b5",
   "metadata": {},
   "source": [
    "# 4DVAR"
   ]
  }
 ],
 "metadata": {
  "kernelspec": {
   "display_name": "Python 3 (ipykernel)",
   "language": "python",
   "name": "python3"
  },
  "language_info": {
   "codemirror_mode": {
    "name": "ipython",
    "version": 3
   },
   "file_extension": ".py",
   "mimetype": "text/x-python",
   "name": "python",
   "nbconvert_exporter": "python",
   "pygments_lexer": "ipython3",
   "version": "3.10.9"
  }
 },
 "nbformat": 4,
 "nbformat_minor": 5
}
