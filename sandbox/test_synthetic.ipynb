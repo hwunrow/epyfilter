{
 "cells": [
  {
   "cell_type": "code",
   "execution_count": 3,
   "id": "d2daea00-85b5-4930-b876-7c76c3540f67",
   "metadata": {},
   "outputs": [],
   "source": [
    "import importlib\n",
    "import sys\n",
    "import os\n",
    "sys.path.insert(0, os.path.abspath(os.path.join('../src/')))\n",
    "import simulate_data\n",
    "importlib.reload(simulate_data)\n",
    "\n",
    "def test_fun(rt_0, rt_1, m, k):\n",
    "    true_params = {\n",
    "        'rt_0': rt_0,\n",
    "        'rt_1': rt_1,\n",
    "        'midpoint': m,\n",
    "        'k': k,\n",
    "        'n_t': 365,\n",
    "        't_I': 4.,\n",
    "        'N': 100_000.,\n",
    "        'S0': 99_900.,\n",
    "        'I0': 100.,\n",
    "    }\n",
    "    data = simulate_data.simulate_data(**true_params, run_deterministic=True)\n",
    "    idx, = np.where(np.diff(np.sign(np.diff(data.i_true))) == -2)\n",
    "    if len(idx) > 1:\n",
    "        return true_params"
   ]
  },
  {
   "cell_type": "code",
   "execution_count": null,
   "id": "bada1591-6244-4411-bd75-abd74c04a177",
   "metadata": {},
   "outputs": [],
   "source": []
  }
 ],
 "metadata": {
  "kernelspec": {
   "display_name": "Python 3 (ipykernel)",
   "language": "python",
   "name": "python3"
  },
  "language_info": {
   "codemirror_mode": {
    "name": "ipython",
    "version": 3
   },
   "file_extension": ".py",
   "mimetype": "text/x-python",
   "name": "python",
   "nbconvert_exporter": "python",
   "pygments_lexer": "ipython3",
   "version": "3.10.9"
  }
 },
 "nbformat": 4,
 "nbformat_minor": 5
}
