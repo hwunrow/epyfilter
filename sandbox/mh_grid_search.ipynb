{
 "cells": [
  {
   "cell_type": "code",
   "execution_count": 1,
   "id": "c704744a-7617-4748-913c-f0f06b263729",
   "metadata": {},
   "outputs": [],
   "source": [
    "%matplotlib inline\n",
    "\n",
    "import math\n",
    "\n",
    "import numpy as np\n",
    "import pandas as pd\n",
    "\n",
    "import arviz as az\n",
    "\n",
    "import matplotlib.pyplot as plt\n",
    "import plotly\n",
    "import plotly.figure_factory as ff\n",
    "\n",
    "import scipy.stats\n",
    "\n",
    "import logging\n",
    "\n",
    "from datetime import date\n",
    "import os\n",
    "\n",
    "from tqdm import tqdm"
   ]
  },
  {
   "cell_type": "code",
   "execution_count": 5,
   "id": "312e7b67-b829-4dcf-a0f2-a2a74b67d05a",
   "metadata": {},
   "outputs": [
    {
     "name": "stderr",
     "output_type": "stream",
     "text": [
      "100%|███████████████████████████████████████████████████| 600/600 [00:58<00:00, 10.34it/s]\n"
     ]
    },
    {
     "name": "stdout",
     "output_type": "stream",
     "text": [
      "               mean     HDI 3%     HDI 94%  truth\n",
      "rt_0       1.550729   1.096211    1.819778    1.4\n",
      "k          0.314693   0.083015    0.565674    0.1\n",
      "rt_1       2.975735   1.904725    3.802795    3.0\n",
      "I0         7.598802   0.000000   28.000000  100.0\n",
      "midpoint  95.137725  74.000000  117.000000  100.0\n",
      "[0.18833333 0.20333333 0.19333333 0.19166667 0.19166667]\n"
     ]
    }
   ],
   "source": [
    "import importlib\n",
    "import simulate_data\n",
    "importlib.reload(simulate_data)\n",
    "\n",
    "true_params = {\n",
    "    'rt_0': 1.4,\n",
    "    'rt_1': 3.,\n",
    "    'midpoint': 100.,\n",
    "    'k': 0.1,\n",
    "    'n_t': 365,\n",
    "    't_I': 4.,\n",
    "    'N': 100_000.,\n",
    "    'S0': 99_900.,\n",
    "    'I0': 100.,\n",
    "}\n",
    "\n",
    "np.random.seed(1994)\n",
    "\n",
    "# data = simulate_data.simulate_data(**true_params, run_deterministic=True)\n",
    "\n",
    "data = simulate_data.simulate_data(**true_params, add_noise=True, noise_param=1/50)\n",
    "\n",
    "import model_metropolis_hastings\n",
    "importlib.reload(model_metropolis_hastings)\n",
    "\n",
    "from scipy.stats import uniform\n",
    "from scipy.stats import randint\n",
    "from scipy.stats import poisson\n",
    "\n",
    "\n",
    "sir_model = model_metropolis_hastings.SIR_model(data)\n",
    "\n",
    "prior = {\n",
    "    'rt_0':{\n",
    "        'dist': uniform,\n",
    "        'args':{\n",
    "        'lower': 1.,\n",
    "        'upper': 4.,\n",
    "        }\n",
    "    },\n",
    "    'rt_1':{\n",
    "        'dist': uniform,\n",
    "        'args': {\n",
    "            'lower': 1.5,\n",
    "            'upper': 4.,\n",
    "        }\n",
    "    },\n",
    "    'k':{\n",
    "        # 'dist': \"constant\",\n",
    "        # 'args': {\n",
    "        #     'value': true_params['k'],\n",
    "        # }\n",
    "        'dist': uniform,\n",
    "        'args': {\n",
    "            'lower': 0.01,\n",
    "            'upper': 2,\n",
    "        }\n",
    "    },\n",
    "    'midpoint':{\n",
    "        # 'dist': \"constant\",\n",
    "        # 'args': {\n",
    "        #     'value': true_params['midpoint'],\n",
    "        # }\n",
    "        'dist': randint,\n",
    "        'args': {\n",
    "            'lower': 30,\n",
    "            'upper': 200,\n",
    "        }\n",
    "    },\n",
    "    'I0':{\n",
    "        # 'dist': \"constant\",\n",
    "        # 'args': {\n",
    "        #     'value': true_params['I0'],\n",
    "        # }\n",
    "        'dist': poisson,\n",
    "        'args': {\n",
    "            'mu': 50,\n",
    "        }\n",
    "    },\n",
    "}\n",
    "\n",
    "n_samples = 500\n",
    "n_tune = 100\n",
    "tune_interval = 100\n",
    "\n",
    "today = date.today() \n",
    "name = f\"custom_MH_likelihood_normal\"\n",
    "path = os.path.abspath(f'../data/{today}_{name}')\n",
    "\n",
    "sir_model.run_SIR_model(n_samples, n_tune, tune_interval, prior, path)"
   ]
  },
  {
   "cell_type": "markdown",
   "id": "40a2520c-8337-49ef-956c-3358d7e924c7",
   "metadata": {
    "tags": []
   },
   "source": [
    "### Grid Search"
   ]
  },
  {
   "cell_type": "code",
   "execution_count": 11,
   "id": "20da0fa4-35e8-49b9-ba38-8f8b2144e455",
   "metadata": {},
   "outputs": [
    {
     "name": "stderr",
     "output_type": "stream",
     "text": [
      "10it [00:35,  3.53s/it]\n"
     ]
    }
   ],
   "source": [
    "rt_0s = np.arange(1.,2.,0.1)\n",
    "rt_1s = np.arange(1.5,4.,0.1)\n",
    "midpoints = np.arange(75,125,5)\n",
    "\n",
    "chain = []\n",
    "likelihood_list = []\n",
    "likelihood_arr = np.zeros((len(rt_1s),len(rt_0s), len(midpoints)))\n",
    "prior_list = []\n",
    "\n",
    "for ia, a in tqdm(enumerate(rt_0s)):\n",
    "    for ib, b in enumerate(rt_1s):\n",
    "        for im, m in enumerate(midpoints):\n",
    "            params_t = {\n",
    "                'rt_0':a,\n",
    "                'rt_1':b,\n",
    "                'k': true_params['k'],\n",
    "                'midpoint': m,\n",
    "                'I0': true_params['I0'],\n",
    "            }\n",
    "            chain.append(params_t.copy())\n",
    "\n",
    "            _, _, _, i = sir_model.integrate(\n",
    "                            t_I=true_params['t_I'], N=true_params['N'], S0=true_params['N']- true_params['I0'],\n",
    "                            n_t=true_params['n_t'], **params_t.copy())\n",
    "\n",
    "            logprior = sir_model.logprior_prob(prior, **params_t)\n",
    "            loglike = sir_model.loglike_prob(i)\n",
    "\n",
    "            prior_list.append(logprior)\n",
    "            likelihood_list.append(loglike)\n",
    "            likelihood_arr[ib][ia][im] = loglike\n"
   ]
  },
  {
   "cell_type": "code",
   "execution_count": null,
   "id": "43837191-0306-48da-951c-94fe77fbd895",
   "metadata": {},
   "outputs": [],
   "source": []
  },
  {
   "cell_type": "code",
   "execution_count": 12,
   "id": "8e3d71fa-705a-4bcc-b938-9b287614faaf",
   "metadata": {},
   "outputs": [
    {
     "data": {
      "text/html": [
       "<div>\n",
       "<style scoped>\n",
       "    .dataframe tbody tr th:only-of-type {\n",
       "        vertical-align: middle;\n",
       "    }\n",
       "\n",
       "    .dataframe tbody tr th {\n",
       "        vertical-align: top;\n",
       "    }\n",
       "\n",
       "    .dataframe thead th {\n",
       "        text-align: right;\n",
       "    }\n",
       "</style>\n",
       "<table border=\"1\" class=\"dataframe\">\n",
       "  <thead>\n",
       "    <tr style=\"text-align: right;\">\n",
       "      <th></th>\n",
       "      <th>rt_0</th>\n",
       "      <th>rt_1</th>\n",
       "      <th>k</th>\n",
       "      <th>midpoint</th>\n",
       "      <th>I0</th>\n",
       "      <th>log_likelihood</th>\n",
       "      <th>log_prior</th>\n",
       "    </tr>\n",
       "  </thead>\n",
       "  <tbody>\n",
       "    <tr>\n",
       "      <th>0</th>\n",
       "      <td>1.0</td>\n",
       "      <td>1.5</td>\n",
       "      <td>0.1</td>\n",
       "      <td>75</td>\n",
       "      <td>100.0</td>\n",
       "      <td>-5.183774e+05</td>\n",
       "      <td>-30.381776</td>\n",
       "    </tr>\n",
       "    <tr>\n",
       "      <th>1</th>\n",
       "      <td>1.0</td>\n",
       "      <td>1.5</td>\n",
       "      <td>0.1</td>\n",
       "      <td>80</td>\n",
       "      <td>100.0</td>\n",
       "      <td>-3.583660e+05</td>\n",
       "      <td>-30.381776</td>\n",
       "    </tr>\n",
       "    <tr>\n",
       "      <th>2</th>\n",
       "      <td>1.0</td>\n",
       "      <td>1.5</td>\n",
       "      <td>0.1</td>\n",
       "      <td>85</td>\n",
       "      <td>100.0</td>\n",
       "      <td>-3.065054e+05</td>\n",
       "      <td>-30.381776</td>\n",
       "    </tr>\n",
       "    <tr>\n",
       "      <th>3</th>\n",
       "      <td>1.0</td>\n",
       "      <td>1.5</td>\n",
       "      <td>0.1</td>\n",
       "      <td>90</td>\n",
       "      <td>100.0</td>\n",
       "      <td>-1.459037e+06</td>\n",
       "      <td>-30.381776</td>\n",
       "    </tr>\n",
       "    <tr>\n",
       "      <th>4</th>\n",
       "      <td>1.0</td>\n",
       "      <td>1.5</td>\n",
       "      <td>0.1</td>\n",
       "      <td>95</td>\n",
       "      <td>100.0</td>\n",
       "      <td>-2.329789e+06</td>\n",
       "      <td>-30.381776</td>\n",
       "    </tr>\n",
       "  </tbody>\n",
       "</table>\n",
       "</div>"
      ],
      "text/plain": [
       "   rt_0  rt_1    k  midpoint     I0  log_likelihood  log_prior\n",
       "0   1.0   1.5  0.1        75  100.0   -5.183774e+05 -30.381776\n",
       "1   1.0   1.5  0.1        80  100.0   -3.583660e+05 -30.381776\n",
       "2   1.0   1.5  0.1        85  100.0   -3.065054e+05 -30.381776\n",
       "3   1.0   1.5  0.1        90  100.0   -1.459037e+06 -30.381776\n",
       "4   1.0   1.5  0.1        95  100.0   -2.329789e+06 -30.381776"
      ]
     },
     "execution_count": 12,
     "metadata": {},
     "output_type": "execute_result"
    }
   ],
   "source": [
    "df1 = pd.DataFrame(chain)\n",
    "df2 = pd.DataFrame(data=np.vstack([likelihood_list, prior_list]).T, columns=['log_likelihood', 'log_prior'])\n",
    "\n",
    "df = pd.concat([df1, df2], axis=1)\n",
    "\n",
    "df.head()"
   ]
  },
  {
   "cell_type": "code",
   "execution_count": 47,
   "id": "7e2786da-1914-48f1-bc39-625b8c9fa106",
   "metadata": {},
   "outputs": [
    {
     "data": {
      "text/plain": [
       "(array([4]),)"
      ]
     },
     "execution_count": 47,
     "metadata": {},
     "output_type": "execute_result"
    }
   ],
   "source": [
    "np.where((rt_0s < 1.41) & (rt_0s > 1.39))"
   ]
  },
  {
   "cell_type": "code",
   "execution_count": 48,
   "id": "4174af60-c41e-4de1-a233-c4dd4ba236de",
   "metadata": {},
   "outputs": [
    {
     "data": {
      "text/plain": [
       "(array([15]),)"
      ]
     },
     "execution_count": 48,
     "metadata": {},
     "output_type": "execute_result"
    }
   ],
   "source": [
    "np.where((rt_1s < 3.1) & (rt_1s > 3.0))"
   ]
  },
  {
   "cell_type": "code",
   "execution_count": 49,
   "id": "bb4b5190-ed53-44d3-8d00-39da7914f463",
   "metadata": {},
   "outputs": [
    {
     "data": {
      "text/plain": [
       "(array([5]),)"
      ]
     },
     "execution_count": 49,
     "metadata": {},
     "output_type": "execute_result"
    }
   ],
   "source": [
    "np.where((midpoints == 100))"
   ]
  },
  {
   "cell_type": "code",
   "execution_count": 53,
   "id": "113f0c14-8e91-45a1-9627-ee76f7993081",
   "metadata": {},
   "outputs": [
    {
     "data": {
      "text/plain": [
       "100"
      ]
     },
     "execution_count": 53,
     "metadata": {},
     "output_type": "execute_result"
    }
   ],
   "source": [
    "midpoints[5]"
   ]
  },
  {
   "cell_type": "code",
   "execution_count": 54,
   "id": "5b962d10-a3d3-4a0e-b865-f2ad13e4203f",
   "metadata": {},
   "outputs": [
    {
     "data": {
      "text/plain": [
       "[<matplotlib.lines.Line2D at 0x7fcf4892f850>]"
      ]
     },
     "execution_count": 54,
     "metadata": {},
     "output_type": "execute_result"
    },
    {
     "data": {
      "image/png": "[encoded data removed]",
      "text/plain": [
       "<Figure size 640x480 with 2 Axes>"
      ]
     },
     "metadata": {},
     "output_type": "display_data"
    }
   ],
   "source": [
    "from matplotlib.colors import SymLogNorm\n",
    "\n",
    "rt_1_ix, rt_0_ix, midpoint_ix = np.unravel_index(np.argmax(likelihood_arr), likelihood_arr.shape)\n",
    "\n",
    "plt.pcolor(rt_0s, rt_1s, likelihood_arr[:,:,5], norm=SymLogNorm(0.5))\n",
    "plt.xlabel(r'$R0$')\n",
    "plt.ylabel(r'$R1$')\n",
    "clb = plt.colorbar()\n",
    "clb.ax.set_title('Log Likelihood')\n",
    "plt.plot(rt_0s[rt_0_ix], rt_1s[rt_1_ix], 'or', label='maximum likelihood')\n"
   ]
  },
  {
   "cell_type": "code",
   "execution_count": 56,
   "id": "f2be1b91-f876-4c58-81bb-ca86927be68e",
   "metadata": {},
   "outputs": [
    {
     "data": {
      "text/plain": [
       "[<matplotlib.lines.Line2D at 0x7fcf88a11c30>]"
      ]
     },
     "execution_count": 56,
     "metadata": {},
     "output_type": "execute_result"
    },
    {
     "data": {
      "image/png": "[encoded data removed]",
      "text/plain": [
       "<Figure size 640x480 with 2 Axes>"
      ]
     },
     "metadata": {},
     "output_type": "display_data"
    }
   ],
   "source": [
    "plt.pcolor(rt_0s, midpoints, likelihood_arr[15,:,:], norm=SymLogNorm(0.5))\n",
    "plt.xlabel(r'$R0$')\n",
    "plt.ylabel(r'$midpoint$')\n",
    "clb = plt.colorbar()\n",
    "clb.ax.set_title('Log Likelihood')\n",
    "plt.plot(rt_0s[rt_0_ix], midpoints[midpoint_ix], 'or', label='maximum likelihood')"
   ]
  },
  {
   "cell_type": "code",
   "execution_count": 57,
   "id": "33dfb981-0963-438f-bcbf-79d09c9c4719",
   "metadata": {},
   "outputs": [
    {
     "data": {
      "text/plain": [
       "(1.4000000000000004, 3.2000000000000015, 105)"
      ]
     },
     "execution_count": 57,
     "metadata": {},
     "output_type": "execute_result"
    }
   ],
   "source": [
    "rt_0s[rt_0_ix], rt_1s[rt_1_ix], midpoints[midpoint_ix]"
   ]
  },
  {
   "cell_type": "code",
   "execution_count": null,
   "id": "2a30a86a-b106-4c5c-9e10-1e91a0be12bf",
   "metadata": {},
   "outputs": [],
   "source": []
  }
 ],
 "metadata": {
  "kernelspec": {
   "display_name": "Python 3 (ipykernel)",
   "language": "python",
   "name": "python3"
  },
  "language_info": {
   "codemirror_mode": {
    "name": "ipython",
    "version": 3
   },
   "file_extension": ".py",
   "mimetype": "text/x-python",
   "name": "python",
   "nbconvert_exporter": "python",
   "pygments_lexer": "ipython3",
   "version": "3.10.9"
  }
 },
 "nbformat": 4,
 "nbformat_minor": 5
}
