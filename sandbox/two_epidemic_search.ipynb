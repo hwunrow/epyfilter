{
 "cells": [
  {
   "cell_type": "markdown",
   "id": "eb128437-97f1-451c-94ab-280917c9b4bf",
   "metadata": {},
   "source": [
    "# Parameter search for two epidemics"
   ]
  },
  {
   "cell_type": "code",
   "execution_count": 3,
   "id": "b55dc48d-2810-4fbf-a143-b78ad1d396bb",
   "metadata": {},
   "outputs": [],
   "source": [
    "%matplotlib inline\n",
    "\n",
    "import math\n",
    "\n",
    "import numpy as np\n",
    "import pandas as pd\n",
    "\n",
    "import matplotlib.pyplot as plt\n",
    "import plotly\n",
    "import plotly.figure_factory as ff\n",
    "\n",
    "from tqdm import tqdm"
   ]
  },
  {
   "cell_type": "code",
   "execution_count": 1,
   "id": "0fff2bd8-22b0-43de-bcd8-ff2934073199",
   "metadata": {},
   "outputs": [
    {
     "data": {
      "text/plain": [
       "<module 'simulate_data' from '/Users/hwunrow/Documents/GitHub/rt-estimation/src/simulate_data.py'>"
      ]
     },
     "execution_count": 1,
     "metadata": {},
     "output_type": "execute_result"
    }
   ],
   "source": [
    "import importlib\n",
    "import sys\n",
    "import os \n",
    "sys.path.insert(0, os.path.abspath(os.path.join('../src/')))\n",
    "import simulate_data\n",
    "importlib.reload(simulate_data)"
   ]
  },
  {
   "cell_type": "code",
   "execution_count": 2,
   "id": "2aefb885-0e1c-4d1c-baef-c6fe6ee15746",
   "metadata": {},
   "outputs": [
    {
     "ename": "NameError",
     "evalue": "name 'np' is not defined",
     "output_type": "error",
     "traceback": [
      "\u001b[0;31m---------------------------------------------------------------------------\u001b[0m",
      "\u001b[0;31mNameError\u001b[0m                                 Traceback (most recent call last)",
      "Cell \u001b[0;32mIn[2], line 1\u001b[0m\n\u001b[0;32m----> 1\u001b[0m rt_0_range \u001b[38;5;241m=\u001b[39m \u001b[43mnp\u001b[49m\u001b[38;5;241m.\u001b[39marange(\u001b[38;5;241m1.1\u001b[39m, \u001b[38;5;241m5.1\u001b[39m, \u001b[38;5;241m0.1\u001b[39m)\n\u001b[1;32m      2\u001b[0m rt_1_range \u001b[38;5;241m=\u001b[39m np\u001b[38;5;241m.\u001b[39marange(\u001b[38;5;241m1.1\u001b[39m, \u001b[38;5;241m5.1\u001b[39m, \u001b[38;5;241m0.1\u001b[39m)\n\u001b[1;32m      3\u001b[0m midpoint_range \u001b[38;5;241m=\u001b[39m np\u001b[38;5;241m.\u001b[39marange(\u001b[38;5;241m50\u001b[39m, \u001b[38;5;241m250\u001b[39m, \u001b[38;5;241m1\u001b[39m)\n",
      "\u001b[0;31mNameError\u001b[0m: name 'np' is not defined"
     ]
    }
   ],
   "source": [
    "rt_0_range = np.arange(1.1, 5.1, 0.1)\n",
    "rt_1_range = np.arange(1.1, 5.1, 0.1)\n",
    "midpoint_range = np.arange(50, 250, 1)\n",
    "k_range = np.arange(0.1, 0.9, 0.1)\n",
    "\n",
    "def test_fun(rt_0, rt_1, m, k):\n",
    "    true_params = {\n",
    "        'rt_0': rt_0,\n",
    "        'rt_1': rt_1,\n",
    "        'midpoint': m,\n",
    "        'k': k,\n",
    "        'n_t': 365,\n",
    "        't_I': 4.,\n",
    "        'N': 100_000.,\n",
    "        'S0': 99_900.,\n",
    "        'I0': 100.,\n",
    "    }\n",
    "    data = simulate_data.simulate_data(**true_params, run_deterministic=True)\n",
    "    idx, = np.where(np.diff(np.sign(np.diff(data.i_true))) == -2)\n",
    "    if len(idx) > 1:\n",
    "        return true_params\n",
    "    \n",
    "# good_param_list = []\n",
    "# for rt_0 in tqdm(rt_0_range):\n",
    "#     for rt_1 in tqdm(rt_1_range):\n",
    "#         for m in midpoint_range:\n",
    "#             for k in k_range:\n",
    "#                 good_param_list.append(test_fun(rt_0, rt_1, m, k))\n",
    "\n",
    "# good_param_list = [param for param in good_param_list if param is not None]\n",
    "\n",
    "# pd.DataFrame(good_param_list).to_csv(\"good_param_list.csv\", index=False)\n",
    "\n",
    "# good_param_df = pd.read_csv(\"good_param_list.csv\")\n",
    "\n",
    "# tol = 1\n",
    "# good_idx = []\n",
    "# for i in tqdm(range(len(good_param_df))):\n",
    "#     rt0 = good_param_df.iloc[i]['rt_0']\n",
    "#     rt1 = good_param_df.iloc[i]['rt_1']\n",
    "#     m = good_param_df.iloc[i]['midpoint']\n",
    "#     k = good_param_df.iloc[i]['k']\n",
    "#     d = simulate_data.simulate_data(rt_0 = rt0, rt_1 = rt1, midpoint=m, k=k, n_t = 365, t_I = 4., N = 100_000, S0 = 99_900, I0 = 100, run_deterministic=True)\n",
    "#     idx, = np.where(np.diff(np.sign(np.diff(d.i_true))) == -2)\n",
    "#     if np.any([np.diff(d.i_true[id-1:id+1]) < tol for id in idx]):\n",
    "#         continue\n",
    "#     good_idx.append(i)\n",
    "\n",
    "# better_param_df = good_param_df.iloc[good_idx]\n",
    "# better_param_df.to_csv(\"better_param_df.csv\", index=False)\n",
    "\n",
    "# better_param_df = pd.read_csv(\"better_param_df.csv\")\n",
    "# better_param_df.head()"
   ]
  },
  {
   "cell_type": "code",
   "execution_count": null,
   "id": "e10eb61d-0402-4963-87dd-2d546a4f8c76",
   "metadata": {},
   "outputs": [],
   "source": []
  }
 ],
 "metadata": {
  "kernelspec": {
   "display_name": "Python 3 (ipykernel)",
   "language": "python",
   "name": "python3"
  },
  "language_info": {
   "codemirror_mode": {
    "name": "ipython",
    "version": 3
   },
   "file_extension": ".py",
   "mimetype": "text/x-python",
   "name": "python",
   "nbconvert_exporter": "python",
   "pygments_lexer": "ipython3",
   "version": "3.10.9"
  }
 },
 "nbformat": 4,
 "nbformat_minor": 5
}
